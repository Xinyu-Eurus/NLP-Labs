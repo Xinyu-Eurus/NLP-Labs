{
 "cells": [
  {
   "cell_type": "markdown",
   "metadata": {
    "id": "zrZKbN_Krt9O"
   },
   "source": [
    "# Xinyu Zhang 3056684     x.zhang16@students.uu.nl\n",
    "# Huaixi Tang 2631695     h.tang1@students.uu.nl\n"
   ]
  },
  {
   "cell_type": "code",
   "execution_count": null,
   "metadata": {
    "colab": {
     "base_uri": "https://localhost:8080/"
    },
    "id": "MNdfXyOdXfE4",
    "outputId": "9abe24c9-143d-4b2a-99b9-c6b674035322"
   },
   "outputs": [
    {
     "name": "stdout",
     "output_type": "stream",
     "text": [
      "Mounted at /content/drive\n"
     ]
    }
   ],
   "source": [
    "# from google.colab import drive\n",
    "# drive.mount('/content/drive', force_remount=True)"
   ]
  },
  {
   "cell_type": "markdown",
   "metadata": {
    "id": "OGLRv2UssFdN"
   },
   "source": []
  },
  {
   "cell_type": "code",
   "execution_count": null,
   "metadata": {
    "id": "IpjLUR8zU4hX"
   },
   "outputs": [],
   "source": [
    "%matplotlib inline\n",
    "import matplotlib\n",
    "import numpy as np\n",
    "import matplotlib.pyplot as plt"
   ]
  },
  {
   "cell_type": "markdown",
   "metadata": {
    "id": "RcyihiyTU4hf"
   },
   "source": [
    "# Lab 1: Text Corpora and Language Modelling\n",
    "\n",
    "Welcome to the first lab assignment of INFOMNLP 2021. \n",
    "\n",
    "This lab is meant to help you get familiar with some language data, and use this data to estimate simple models called N-gram language models.\n",
    "\n",
    "First you will use the **Penn Treebank**, which is a collection of newspaper articles from the newspaper \n",
    "The Wall Street Journal. The idea is to examine the data and notice interesting properties. This will not take more than a few lines of code. The Penn Treebank may be the most widely used corpus in NLP.\n",
    "\n",
    "Then you will use a corpus consisting of **TedX** talks. This you will use to estimate an **N-gram language model** for different orders of N, and use this for some tasks.\n",
    "\n",
    "The datasets are on Blackboard. Download them and make sure to put the files in the same directory as the notebook.\n",
    "\n",
    "### Rules\n",
    "* The lab exercises should be made in **groups of two people**.\n",
    "\n",
    "* The assignment should submitted to **Blackboard** as `.ipynb`. Only **one submission per group**.\n",
    "\n",
    "* The **filename** should be `lab1_id1_id2.ipynb`.\n",
    " \n",
    "* The questions marked **Extra** or **Optional** are an additional challenge for those interested in going the extra mile. \n",
    "\n",
    "* We may not grade all sub-questions (instead, we may choose a sub-set and scale the points). However, solve them as if they were.\n",
    "\n",
    "Notes on implementation:\n",
    "\n",
    "* You should **write your code and answers in this iPython Notebook**. (See http://ipython.org/notebook.html for reference material.) If you have problems, please contact your teaching assistant.\n",
    "\n",
    "* Use only **one cell for code** and **one cell for markdown** answers!    \n",
    "\n",
    "    * Put all code in the cell with the `# YOUR CODE HERE` comment.\n",
    "    \n",
    "    * For theoretical questions, put your solution in the YOUR ANSWER HERE cell.\n",
    "    \n",
    "* Test your code and **make sure we can run your notebook**"
   ]
  },
  {
   "cell_type": "markdown",
   "metadata": {
    "id": "CJ26TTI8U4hh"
   },
   "source": [
    "# 1. Penn treebank\n",
    "\n",
    "## Exercise 1.1 \n",
    "(40 points, 5 points per subquestion )\n",
    "\n",
    "You are provided with a corpus containing words with their Part-of-Speech tags (POS-tags for short). The format is\n",
    "**word|POS** (one sentence per line) and the file name is **sec02-22.gold.tagged**. This data is extracted from Sections 02-22 from the Penn Treebank: these sections are most commonly used for training statistical models like POS-taggers and parsers.\n",
    "\n",
    "The questions below are about both the words in the corpus and POS tags. POS-tagging will be covered in week2 in the course, but you can already start to get familiar with the tags in English.\n",
    "\n",
    "**[Hint]** **Figure 8.2** in chapter 8 of Jurafsky and Martin (see (https://web.stanford.edu/~jurafsky/slp3/8.pdf)) holds a summary of the 45 POS-tags used in the Penn Treebank tagset together with their meaning and some examples. (If you are keen on learning more about the word-classes represented POS-tags and their definitions you can do a litle reading ahead for next week and already have a look at section 8.1 of the same chapter).\n",
    "\n",
    "**[Hint]** the Python library [collections](https://docs.python.org/2/library/collections.html) has an object called `Counter` which will come in handy for this exercise."
   ]
  },
  {
   "cell_type": "markdown",
   "metadata": {
    "id": "UKhUTJe1U4hi"
   },
   "source": [
    " "
   ]
  },
  {
   "cell_type": "markdown",
   "metadata": {
    "id": "5iPBxWslU4hi"
   },
   "source": [
    "**(a)** How large is the corpus? (i.e. how **many tokens**). And what is the size of the **vocabulary** used in this corpus? \n",
    "\n",
    "Estimate the vocabulary size both by **lowercasing** all the words as well as by leaving the words in their **original orthography**. What is an advantage of lowercasing all the words in your corpus? What is a notable downside? **Give examples.**"
   ]
  },
  {
   "cell_type": "code",
   "execution_count": null,
   "metadata": {
    "colab": {
     "base_uri": "https://localhost:8080/"
    },
    "id": "3dTW992yU4hi",
    "outputId": "c85c2ab4-56e5-41a9-f5ec-123bda03eeff"
   },
   "outputs": [
    {
     "name": "stdout",
     "output_type": "stream",
     "text": [
      "length of corpus: 929552\n",
      "size of original vocabulary: 44210\n",
      "size of lower vocabulary: 39384\n"
     ]
    }
   ],
   "source": [
    "## YOUR CODE HERE ##\n",
    "from collections import Counter\n",
    "\n",
    "#the path might need to be changed\n",
    "sentences_and_pos = open('/sec02-21.gold.tagged').read()\n",
    "sentences_and_pos = sentences_and_pos.split()\n",
    "words = []\n",
    "words_lower = []\n",
    "postags = []\n",
    "for token in sentences_and_pos:\n",
    "    wordandpos = token.split('|')\n",
    "    words.append(wordandpos[0])\n",
    "    words_lower.append(wordandpos[0].lower())\n",
    "    postags.append(wordandpos[1])\n",
    "    \n",
    "print(\"length of corpus:\",len(words))\n",
    "original_count = Counter(words)\n",
    "lower_count = Counter(words_lower)\n",
    "postags_count = Counter(postags)\n",
    "print(\"size of original vocabulary:\",len(original_count))\n",
    "print(\"size of lower vocabulary:\",len(lower_count))\n"
   ]
  },
  {
   "cell_type": "markdown",
   "metadata": {
    "id": "kGG9nSSRU4hj"
   },
   "source": [
    "YOUR ANSWER HERE\n",
    "\n",
    "length of corpus: 929552\n",
    "size of original vocabulary: 44210\n",
    "size of lower vocabulary: 39384\n",
    "    \n",
    "What is an advantage of lowercasing all the words in your corpus? \n",
    "A: Same words that appear both in the beginning and middle of sentences can be regard as the same. e.g. \"The\" and \"the\"\n",
    "What is a notable downside? \n",
    "A: Some proper nouns, which are in capital, share the same orthography with another normal word. Or other cases when capitalization matters. e.g. \"Python\" (a programming language) and \"python\" (a huge snake)"
   ]
  },
  {
   "cell_type": "markdown",
   "metadata": {
    "id": "aiho3V9EU4hj"
   },
   "source": [
    "------\n",
    "For the rest of this exercise you should use the **original orthography** of the data when answering the questions.\n",
    "\n",
    "------\n"
   ]
  },
  {
   "cell_type": "markdown",
   "metadata": {
    "id": "E_3r_4qHU4hk"
   },
   "source": [
    "**(b)** Plot a graph of word frequency versus rank of a word, in this corpus. Does this corpus obey **Zipf’s law**?"
   ]
  },
  {
   "cell_type": "code",
   "execution_count": null,
   "metadata": {
    "colab": {
     "base_uri": "https://localhost:8080/",
     "height": 595
    },
    "id": "b3e2-cN-U4hk",
    "outputId": "e8af4e21-1cf8-473d-b95e-717c7005603e",
    "scrolled": true
   },
   "outputs": [
    {
     "name": "stdout",
     "output_type": "stream",
     "text": [
      "[(',', 48310), ('the', 40839), ('.', 38798), ('of', 22782), ('to', 22056), ('a', 19171), ('and', 15906), ('in', 15085), (\"'s\", 9249), ('that', 7951)]\n"
     ]
    },
    {
     "data": {
      "image/png": "[encoded data removed]",
      "text/plain": [
       "<Figure size 432x288 with 1 Axes>"
      ]
     },
     "metadata": {
      "needs_background": "light",
      "tags": []
     },
     "output_type": "display_data"
    },
    {
     "data": {
      "image/png": "[encoded data removed]",
      "text/plain": [
       "<Figure size 432x288 with 1 Axes>"
      ]
     },
     "metadata": {
      "needs_background": "light",
      "tags": []
     },
     "output_type": "display_data"
    }
   ],
   "source": [
    "## YOUR CODE HERE ##\n",
    "# original_count.pop(',')\n",
    "# original_count.pop('.')#  ', . $ : ; #'\n",
    "import math\n",
    "\n",
    "most_10=original_count.most_common(10)\n",
    "print(most_10)\n",
    "\n",
    "for item in most_10:\n",
    "    plt.bar(item[0],item[1])\n",
    "    \n",
    "plt.title('TOP1-10 frequency')  \n",
    "plt.xlabel('tokens')                                   \n",
    "plt.ylabel('frequency')                                   \n",
    "# plt.legend('')                             \n",
    "plt.show()  \n",
    "\n",
    "original_rank=original_count.most_common(len(original_count))\n",
    "x=range(len(original_count))\n",
    "y=[]\n",
    "for item in original_rank:\n",
    "    y.append(item[1])\n",
    "\n",
    "plt.loglog(x,y)  \n",
    "plt.title('Rank and frequency')  \n",
    "plt.xlabel('ranking by tokens\\' frequency')                                   \n",
    "plt.ylabel('frequency')                                            \n",
    "plt.show()  "
   ]
  },
  {
   "cell_type": "markdown",
   "metadata": {
    "id": "QcCo8LgJVTNr"
   },
   "source": [
    "As the plot \"Rank and frequency\" shows, the relationship between the frequency ranking and frequency of the vocabulary is approximate to logarithmic relationship, so the corpus obeys Zipf’s law."
   ]
  },
  {
   "cell_type": "markdown",
   "metadata": {
    "id": "-F67Bi6oU4hl"
   },
   "source": [
    "**(c)** What are the **20 most common words** in the corpus and how often do they occur? What is the 50th most common word, the 100th and the 1000th and how often do they occur?"
   ]
  },
  {
   "cell_type": "code",
   "execution_count": null,
   "metadata": {
    "colab": {
     "base_uri": "https://localhost:8080/"
    },
    "id": "OGlQ0KJ1U4hm",
    "outputId": "c5f4d0e2-c20f-4571-bb51-98b5e36025a6"
   },
   "outputs": [
    {
     "name": "stdout",
     "output_type": "stream",
     "text": [
      "the 20 most common words:\n",
      " [(',', 48310), ('the', 40839), ('.', 38798), ('of', 22782), ('to', 22056), ('a', 19171), ('and', 15906), ('in', 15085), (\"'s\", 9249), ('that', 7951), ('for', 7912), ('$', 7125), ('is', 6893), ('The', 6791), ('said', 5597), ('on', 5112), ('%', 4871), ('it', 4639), ('by', 4450), ('from', 4437)]\n",
      "50th most common word ('had', 1755)\n",
      "100th most common word ('A', 860)\n",
      "1000th most common word ('man', 109)\n"
     ]
    }
   ],
   "source": [
    "## YOUR CODE HERE ##\n",
    "# the 20 most common words in the corpus and how often do they occur\n",
    "print(\"the 20 most common words:\\n\",original_count.most_common(20))\n",
    "#the 50th most common word\n",
    "most_1000=original_count.most_common(1000)\n",
    "print(\"50th most common word\",most_1000[49])\n",
    "print(\"100th most common word\",most_1000[99])\n",
    "print(\"1000th most common word\",most_1000[999])"
   ]
  },
  {
   "cell_type": "markdown",
   "metadata": {
    "id": "mvVvteHCU4hm"
   },
   "source": [
    "**(d)** How many different Part-of-speech tags are present in the corpus?"
   ]
  },
  {
   "cell_type": "code",
   "execution_count": null,
   "metadata": {
    "colab": {
     "base_uri": "https://localhost:8080/"
    },
    "id": "cxYFQD3tU4hm",
    "outputId": "70906bd0-f65c-4dc1-984c-f3a5aaf8e3fa",
    "scrolled": true
   },
   "outputs": [
    {
     "name": "stdout",
     "output_type": "stream",
     "text": [
      "number of Part-of-speech tags:\n",
      " 48\n",
      "[('NN', 132134), ('IN', 99413), ('NNP', 90711), ('DT', 82147), ('JJ', 59643), ('NNS', 59332), (',', 48314), ('.', 39252), ('CD', 36148), ('RB', 30232), ('VBD', 29978), ('VB', 26335), ('CC', 24038), ('TO', 21835), ('VBZ', 21810), ('VBN', 19720), ('PRP', 17354), ('VBG', 14910), ('VBP', 12480), ('MD', 9734), ('POS', 8640), ('PRP$', 8351), ('$', 7313), ('WDT', 4261), ('JJR', 3258), ('RP', 2650), ('NNPS', 2642), ('WP', 2351), ('WRB', 2127), (':', 2108), ('JJS', 1931), ('RBR', 1724), ('RRB', 1364), ('LRB', 1352), (';', 1096), ('EX', 875), ('RBS', 448), ('PDT', 367), ('SO', 262), ('FW', 233), ('WP$', 168), ('AS', 166), ('#', 142), ('UH', 97), ('SYM', 59), ('LS', 36), ('NP', 10), ('SBAR', 1)]\n"
     ]
    }
   ],
   "source": [
    "## YOUR CODE HERE ##\n",
    "print(\"number of Part-of-speech tags:\\n\",len(postags_count))\n",
    "#print(postags_count)\n",
    "pos_rank=postags_count.most_common(len(postags_count))\n",
    "print(pos_rank)"
   ]
  },
  {
   "cell_type": "markdown",
   "metadata": {
    "id": "qWpqwVdZU4hn"
   },
   "source": [
    "**(e)** Print a list of the **10 most commonly occurring POS tags** in the data. For each of these POS tags, what are the **3 most common words** that belong to that class?"
   ]
  },
  {
   "cell_type": "code",
   "execution_count": null,
   "metadata": {
    "colab": {
     "base_uri": "https://localhost:8080/"
    },
    "id": "LgByVcwBU4hn",
    "outputId": "8c5c4bc1-4a7a-4e53-edc4-20b8e76c59e6"
   },
   "outputs": [
    {
     "name": "stdout",
     "output_type": "stream",
     "text": [
      "1 th common postag:\n",
      " ('NN', 132134)\n",
      "the 3 most common words that belong to the tag:\n",
      " ('%', 'company', 'year') \n",
      "\n",
      "2 th common postag:\n",
      " ('IN', 99413)\n",
      "the 3 most common words that belong to the tag:\n",
      " ('of', 'in', 'for') \n",
      "\n",
      "3 th common postag:\n",
      " ('NNP', 90711)\n",
      "the 3 most common words that belong to the tag:\n",
      " ('Mr.', 'U.S.', 'Corp.') \n",
      "\n",
      "4 th common postag:\n",
      " ('DT', 82147)\n",
      "the 3 most common words that belong to the tag:\n",
      " ('the', 'a', 'The') \n",
      "\n",
      "5 th common postag:\n",
      " ('JJ', 59643)\n",
      "the 3 most common words that belong to the tag:\n",
      " ('new', 'other', 'last') \n",
      "\n",
      "6 th common postag:\n",
      " ('NNS', 59332)\n",
      "the 3 most common words that belong to the tag:\n",
      " ('years', 'shares', 'sales') \n",
      "\n",
      "7 th common postag:\n",
      " (',', 48314)\n",
      "the 3 most common words that belong to the tag:\n",
      " (',', 'an', '2') \n",
      "\n",
      "8 th common postag:\n",
      " ('.', 39252)\n",
      "the 3 most common words that belong to the tag:\n",
      " ('.', '?', '!') \n",
      "\n",
      "9 th common postag:\n",
      " ('CD', 36148)\n",
      "the 3 most common words that belong to the tag:\n",
      " ('million', 'billion', 'one') \n",
      "\n",
      "10 th common postag:\n",
      " ('RB', 30232)\n",
      "the 3 most common words that belong to the tag:\n",
      " (\"n't\", 'also', 'not') \n",
      "\n"
     ]
    }
   ],
   "source": [
    "## YOUR CODE HERE ##\n",
    "def common_words(tag):\n",
    "    tag_words_list = []\n",
    "    for i in range(len(postags)):\n",
    "        if postags[i]==tag:\n",
    "            tag_words_list.append(words[i])\n",
    "            \n",
    "    tag_words_count = Counter(tag_words_list)\n",
    "    tag_words_rank = tag_words_count.most_common(3)\n",
    "    rank1=tag_words_rank[0]\n",
    "    rank2=tag_words_rank[1]\n",
    "    rank3=tag_words_rank[2]\n",
    "    return (rank1[0],rank2[0],rank3[0])\n",
    "\n",
    "for k in range(10):\n",
    "    print(k+1, \"th common postag:\\n\", pos_rank[k])\n",
    "    tag = pos_rank[k][0]\n",
    "    print(\"the 3 most common words that belong to the tag:\\n\",common_words(tag),\"\\n\")"
   ]
  },
  {
   "cell_type": "markdown",
   "metadata": {
    "id": "lVzFewpvU4hn"
   },
   "source": [
    "**(f)** A single word may have several POS-tags. For example, *record* can be a both a **noun** *(buy a record)* or a **verb** *(record a lecture)*. This make POS-tags extremely useful for **disambiguation**.\n",
    "\n",
    "What percentage of the words in the vocabulary is **ambiguous**? (i.e. have more than one POS tag?) What are the 10 most frequent combinations of POS tags in the case of ambitguity? Which words are **most ambiguous**? Give some of them."
   ]
  },
  {
   "cell_type": "code",
   "execution_count": null,
   "metadata": {
    "colab": {
     "base_uri": "https://localhost:8080/"
    },
    "id": "dCHN1wlEU4hn",
    "outputId": "08fd0aac-0bd2-477a-cc7f-4c58dfb9a67e",
    "scrolled": true
   },
   "outputs": [
    {
     "name": "stdout",
     "output_type": "stream",
     "text": [
      "percentage of ambiguous words in the vocabulary: 0.13469803211943 \n",
      "\n",
      "10 most frequent combinations of POS-tags:\n",
      "# 1 : ['VBD', 'VBN']\n",
      "# 2 : ['NN', 'JJ']\n",
      "# 3 : ['NN', 'NNP']\n",
      "# 4 : ['VB', 'VBP']\n",
      "# 5 : ['NNS', 'VBZ']\n",
      "# 6 : ['NN', 'VB']\n",
      "# 7 : ['NN', 'VBG']\n",
      "# 8 : ['JJ', 'VBD', 'VBN']\n",
      "# 9 : ['NN', 'VB', 'VBP']\n",
      "# 10 : ['NNP', 'JJ']\n",
      "\n",
      " count of pos-tags of most ambiguous words: 7\n",
      "most ambiguous words:\n",
      "word: In  combination of pos-tags: {'RBR', 'IN', 'RB', 'NNP'}\n",
      "word: 's  combination of pos-tags: {'PRP', 'VBZ', 'POS', 'NNP', 'NNS'}\n",
      "word: in  combination of pos-tags: {'CC', 'RBR', 'IN', 'RP', 'RB', 'FW'}\n",
      "word: set  combination of pos-tags: {'VBP', 'VBN', 'JJ', 'VB', 'VBZ', 'NN', 'VBD'}\n"
     ]
    }
   ],
   "source": [
    "## YOUR CODE HERE ##\n",
    "def tagToNum():\n",
    "    dic={}\n",
    "    for i in range(len(pos_rank)):\n",
    "        dic[pos_rank[i][0]]=i\n",
    "    return dic\n",
    "\n",
    "def numToTag():\n",
    "    dic={}\n",
    "    for i in range(len(pos_rank)):\n",
    "        dic[i]=pos_rank[i][0]\n",
    "    return dic\n",
    "\n",
    "tag_to_num=tagToNum()\n",
    "num_to_tag=numToTag()\n",
    "\n",
    "\n",
    "def setToKey(com_set):\n",
    "    nums=[]\n",
    "    for tag in com_set:\n",
    "        num=tag_to_num[tag]\n",
    "        nums.append(num)\n",
    "    nums.sort()\n",
    "    new_key=\"\"\n",
    "    for num in nums:\n",
    "        new_key+=str(num)+\"+\"\n",
    "    return new_key\n",
    "\n",
    "def keyToSet(key):\n",
    "    com_set=[]\n",
    "    coms=key.split('+')\n",
    "    for item in coms:\n",
    "        if item=='':\n",
    "            continue\n",
    "        num=int(item)\n",
    "        com_set.append(num_to_tag[num])\n",
    "    return com_set\n",
    "\n",
    "words_to_tags = {}\n",
    "for i in range(len(words)):\n",
    "    word=words[i]\n",
    "    if words_to_tags.get(word)==None:\n",
    "        words_to_tags[word]=set()\n",
    "    words_to_tags[word].add(postags[i])\n",
    "    \n",
    "num_ambiguous_voc=0\n",
    "max_len=1\n",
    "keys=[]\n",
    "ambiguous_words=[]\n",
    "combinations={}\n",
    "\n",
    "for key,value in words_to_tags.items():\n",
    "    if len(value)>1:\n",
    "        num_ambiguous_voc+=1\n",
    "        ambiguous_words.append(key)\n",
    "        \n",
    "        com_key=setToKey(value)\n",
    "        if combinations.get(com_key)==None:\n",
    "            combinations[com_key]=1\n",
    "        else:\n",
    "            combinations[com_key]+=1\n",
    "        if len(value)>max_len:\n",
    "            max_len=len(value)\n",
    "            keys.append(key)\n",
    "\n",
    "combinations_sorted=sorted(combinations.items(),key=lambda x:x[1],reverse=True)    \n",
    "\n",
    "#print\n",
    "print(\"percentage of ambiguous words in the vocabulary:\",num_ambiguous_voc/len(words_to_tags),\"\\n\")\n",
    "\n",
    "print(\"10 most frequent combinations of POS-tags:\")\n",
    "for i in range(10):\n",
    "    com_set=keyToSet(combinations_sorted[i][0])\n",
    "    print(\"#\",i+1,\":\",com_set)\n",
    "\n",
    "print(\"\\n count of pos-tags of most ambiguous words:\", max_len)\n",
    "print(\"most ambiguous words:\")\n",
    "for key in keys:\n",
    "#     if len(words_to_tags[key])<max_len:\n",
    "#         keys.remove(key)\n",
    "    print(\"word:\",key,\" combination of pos-tags:\",words_to_tags[key])"
   ]
  },
  {
   "cell_type": "markdown",
   "metadata": {
    "id": "feZA3N4tU4ho"
   },
   "source": [
    "**(g)**  Print some of these words with their multiple POS-tags. Do you **understand the ambiguity**? Use figure 10.2 mentioned above to interpret the POS-tags."
   ]
  },
  {
   "cell_type": "code",
   "execution_count": null,
   "metadata": {
    "colab": {
     "base_uri": "https://localhost:8080/"
    },
    "id": "OEPMc9qVU4ho",
    "outputId": "5022992d-0df7-4db2-ad2f-f85b8fa80a27"
   },
   "outputs": [
    {
     "name": "stdout",
     "output_type": "stream",
     "text": [
      "some ambiguous words:\n",
      "word: In  combination of pos-tags: {'RBR', 'IN', 'RB', 'NNP'}\n",
      "word: an  combination of pos-tags: {',', 'DT'}\n",
      "word: Oct.  combination of pos-tags: {'NNP', 'NN'}\n",
      "word: review  combination of pos-tags: {'VB', 'VBP', 'NN'}\n",
      "word: of  combination of pos-tags: {'IN', 'RP', 'RB'}\n",
      "word: The  combination of pos-tags: {'VB', 'NNP', 'DT'}\n",
      "word: at  combination of pos-tags: {'IN', 'RP'}\n",
      "word: 's  combination of pos-tags: {'PRP', 'VBZ', 'POS', 'NNP', 'NNS'}\n",
      "word: Take  combination of pos-tags: {'VB', 'VBP'}\n",
      "word: the  combination of pos-tags: {'NN', 'NNP', 'JJ', 'DT'}\n",
      "word: Stage  combination of pos-tags: {'NN', 'NNP'}\n",
      "word: in  combination of pos-tags: {'CC', 'RBR', 'IN', 'RP', 'RB', 'FW'}\n",
      "word: City  combination of pos-tags: {'NNP', 'NN'}\n",
      "word: Leisure  combination of pos-tags: {'NN', 'NNP'}\n",
      "word: &  combination of pos-tags: {'SYM', 'CC'}\n",
      "word: Arts  combination of pos-tags: {'NNPS', 'NNP', 'NNS'}\n",
      "word: played  combination of pos-tags: {'VBD', 'VBN'}\n",
      "word: by  combination of pos-tags: {'IN', 'RP', 'RB'}\n",
      "word: was  combination of pos-tags: {'VBD', 'VBN'}\n",
      "word: attributed  combination of pos-tags: {'VBD', 'VBN'}\n",
      "word: to  combination of pos-tags: {'TO', 'IN', 'CC'}\n",
      "word: plays  combination of pos-tags: {'VBZ', 'NNS'}\n",
      "word: Cars  combination of pos-tags: {'NNPS', 'NNS'}\n",
      "word: Inc.  combination of pos-tags: {'NNP', 'NN'}\n",
      "word: said  combination of pos-tags: {'VBD', 'VBN'}\n",
      "word: U.S.  combination of pos-tags: {'VBP', 'NNP', 'JJ'}\n",
      "word: sales  combination of pos-tags: {'NN', 'JJ', 'NNS'}\n",
      "word: remain  combination of pos-tags: {'VB', 'VBP'}\n",
      "word: steady  combination of pos-tags: {'JJ', 'RB'}\n",
      "word: about  combination of pos-tags: {'VBG', 'RBR', 'IN', 'RP', 'RB'}\n"
     ]
    }
   ],
   "source": [
    "## YOUR CODE HERE ##\n",
    "print(\"some ambiguous words:\")\n",
    "\n",
    "for i in range(30):\n",
    "    key=ambiguous_words[i]\n",
    "    print(\"word:\",key,\" combination of pos-tags:\",words_to_tags[key])"
   ]
  },
  {
   "cell_type": "markdown",
   "metadata": {
    "id": "lzesCPh3V6jv"
   },
   "source": [
    "Ambiguity refers to the inaccuracy of natural words, which have multiple meanings and are difficult to determine.\n",
    "\n",
    "Example 1:\n",
    " \"plays\": {'VBZ', 'NNS'}\n",
    "\n",
    "'VBZ' means 3rd person singular present Verb, e.g. \"he plays basketball\";\n",
    "\n",
    "'NNS' means plural Noun, e.g. \"he went to the theater to see some plays\".\n",
    "\n",
    "Example 2: \n",
    " \"&\":{'SYM', 'CC'}\n",
    "\n",
    "'SYN' means a symbol e.g. a math operator.\n",
    "\n",
    "'NNS' means a coord. conj., representing \"and\"\n",
    "\n",
    "\n"
   ]
  },
  {
   "cell_type": "markdown",
   "metadata": {
    "id": "moBV8uyJU4ho"
   },
   "source": [
    "**(h)** Ambiguous words do not account for a great percentage of the vocabulary. Yet they are among the most commonly occuring words of the English language. What **percentage of the dataset is ambiguous**?"
   ]
  },
  {
   "cell_type": "code",
   "execution_count": null,
   "metadata": {
    "id": "4UspNwWkU4ho"
   },
   "outputs": [],
   "source": [
    "## YOUR CODE HERE ##\n",
    "freq_ambiguous=0\n",
    "for word in ambiguous_words:\n",
    "    freq_ambiguous+=original_count[word]\n",
    "\n",
    "print(\"frequency of the ambiguous words:\",freq_ambiguous/len(words))"
   ]
  },
  {
   "cell_type": "markdown",
   "metadata": {
    "id": "Y_Y9MZ8LU4ho"
   },
   "source": [
    "## Exercise 1.2 \n",
    "(10 points, 5 per subquestion)"
   ]
  },
  {
   "cell_type": "markdown",
   "metadata": {
    "id": "XdlM295mU4ho"
   },
   "source": [
    "You are also provided with another file called **sec00.gold.tagged**. \n",
    "Section 00 of the Penn Treebank is typically used as development data."
   ]
  },
  {
   "cell_type": "markdown",
   "metadata": {
    "id": "8ZSd4rrKU4hp"
   },
   "source": [
    "**(a)** How many **unseen words** are present in the development data (i.e., words that have not occurred in the training data)?"
   ]
  },
  {
   "cell_type": "code",
   "execution_count": null,
   "metadata": {
    "id": "JVvrrw_mU4hp",
    "scrolled": false
   },
   "outputs": [],
   "source": [
    "## YOUR CODE HERE ##\n",
    "sentences_and_pos00 = open('sec00.gold.tagged').read()\n",
    "sentences_and_pos00 = sentences_and_pos00.split()\n",
    "words00 = []\n",
    "postags00 = []\n",
    "for token in sentences_and_pos00:\n",
    "    wordandpos = token.split('|')\n",
    "    words00.append(wordandpos[0])\n",
    "    postags00.append(wordandpos[1])\n",
    "    \n",
    "print(\"length of corpus:\",len(words00))\n",
    "original_count00 = Counter(words00)\n",
    "postags_count00 = Counter(postags00)\n",
    "print(\"size of original vocabulary:\",len(original_count00))\n",
    "\n",
    "num_unseen=0\n",
    "unseen=[]\n",
    "for key, val in original_count00.items():\n",
    "    if original_count.get(key)==None:\n",
    "        num_unseen+=1\n",
    "        unseen.append(key)\n",
    "\n",
    "print(\"Number of unseen words:\",num_unseen)"
   ]
  },
  {
   "cell_type": "markdown",
   "metadata": {
    "id": "2or1roSQU4hp"
   },
   "source": [
    "**(b)** What are the three **POS tag categories** that the most **unseen words** belong to?"
   ]
  },
  {
   "cell_type": "code",
   "execution_count": null,
   "metadata": {
    "id": "-dARAIJQU4hp",
    "scrolled": true
   },
   "outputs": [],
   "source": [
    "## YOUR CODE HERE ##\n",
    "words_to_tags00 = {}\n",
    "for i in range(len(words00)):\n",
    "    word=words00[i]\n",
    "    if words_to_tags00.get(word)==None:\n",
    "        words_to_tags00[word]=set()\n",
    "    words_to_tags00[word].add(postags00[i])\n",
    "    \n",
    "unseen_tags_list=[]\n",
    "# unseen_freq={}\n",
    "for word in unseen:\n",
    "    tag_set=words_to_tags00[word]\n",
    "#     freq=original_count00[word]\n",
    "#     unseen_freq[word]=freq\n",
    "    for item in tag_set:\n",
    "        unseen_tags_list.append(item)\n",
    "        \n",
    "count_unseen_tags=Counter(unseen_tags_list)\n",
    "print(\"the three POS-tags of the most unseen words:\",count_unseen_tags.most_common(3))"
   ]
  },
  {
   "cell_type": "markdown",
   "metadata": {
    "id": "It0owdrjU4hq"
   },
   "source": [
    "# 2. Language Models\n",
    "\n",
    "\n",
    "\n",
    "Reference **chapter 3** of JM3 *Language Modeling with N-Grams*. \n",
    "\n",
    "----------\n",
    "\n",
    "Models that assign **probabilities** to **sequences of words** are called language **language\n",
    "modelels** or **LMs**. The simplest model that assigns probabilities to sentences and sequences of words is the **N-gram** model.\n",
    "\n",
    "Recall that an *N*-gram language model uses **conditional probabilities** of the form\n",
    "    \n",
    "$$P(w_k \\mid w_{k-N+1} \\dots w_{k-1})$$\n",
    "\n",
    "to **approximate** the full **joint probability**\n",
    "\n",
    "$$P(w_1 \\dots w_n)$$\n",
    "\n",
    "of a sequence of words $w_1 \\dots w_n$.\n",
    "\n",
    "The easiest way of obtaining estimates for the probabilities $P(w_k \\mid w_{k-N+1} \\dots w_{k-1})$ is to use the **maximum likelihood estimate** or **MLE**, a widely used statistical estimation method (https://en.wikipedia.org/wiki/Maximum_likelihood_estimation). You count and normalize:\n",
    "\n",
    "$$P_{MLE}(w_k \\mid w_{k-N+1} \\dots w_{k-1}) = \\frac{C(w_{k-N+1} \\dots w_{k-1} w_k)}{C(w_{k-N+1} \\dots w_{k-1})}.$$\n",
    "\n",
    "\n",
    "## Exercise 2.1 \n",
    "(25 points, 15 and 10 for a and b)\n",
    "\n",
    "**(a) ** Complete the function `train_ngram` so that you can train a count-based $N$-gram language model on the data found in `data/ted-train.txt` and train this for $N=2,3,4$. \n",
    "\n",
    "**(b) ** Extend the function above so that it accepts a parameter `k` for optional add-$k$ smoothing. \n",
    "\n",
    "**[Datastructure hint]** If you store the smoothed language in a naive manner (that is, to store *all* the numbers separately) your datastructure will get huge! If $V$ is the vocabulary then the smoothed bigram model assigns probabilities to $|V|^2$ entries. If $|V|$ is around 80k, the naive way requires you to store more than 64 billion floats. Yet almost all of these are actually just $P(w_n|w_{n-1}) = \\frac{k}{N + k|V|}$, with $k$ the value with which you smooth and $N=C(w_{n-1})$. Think about how you use this fact to make your model work in practice."
   ]
  },
  {
   "cell_type": "markdown",
   "metadata": {
    "id": "0_CqsEfHU4hq"
   },
   "source": [
    "**[Python hint]** The `collections` library has another useful datastructure: the `defaultdict`. Some example uses:"
   ]
  },
  {
   "cell_type": "code",
   "execution_count": 66,
   "metadata": {
    "id": "Tbyzn4EYU4hq",
    "scrolled": true
   },
   "outputs": [],
   "source": [
    "# from collections import defaultdict,Counter\n",
    "\n",
    "# d = defaultdict(float)\n",
    "# d[\"new key\"]"
   ]
  },
  {
   "cell_type": "markdown",
   "metadata": {
    "id": "h9LETVhcU4hs"
   },
   "source": [
    "Compare that to an ordinary dictionary:"
   ]
  },
  {
   "cell_type": "code",
   "execution_count": 67,
   "metadata": {
    "id": "al93sqHIU4hs"
   },
   "outputs": [],
   "source": [
    "# d = dict()\n",
    "# d[\"new key\"]"
   ]
  },
  {
   "cell_type": "markdown",
   "metadata": {
    "id": "Y3KUiu3kU4hs"
   },
   "source": [
    "Other datatypes as `default_factory`:"
   ]
  },
  {
   "cell_type": "code",
   "execution_count": null,
   "metadata": {
    "id": "RjpS3TtiU4hs"
   },
   "outputs": [],
   "source": [
    "# d = defaultdict(int)\n",
    "# d[\"new key\"]"
   ]
  },
  {
   "cell_type": "code",
   "execution_count": null,
   "metadata": {
    "id": "2WoXIHadU4ht"
   },
   "outputs": [],
   "source": [
    "# d = defaultdict(list)\n",
    "# d[\"new key\"]"
   ]
  },
  {
   "cell_type": "markdown",
   "metadata": {
    "id": "K7GWBb03U4ht"
   },
   "source": [
    "Converting an already existing `dict`:"
   ]
  },
  {
   "cell_type": "code",
   "execution_count": null,
   "metadata": {
    "id": "MupKhdq0U4ht"
   },
   "outputs": [],
   "source": [
    "# d1 = {k: \"value\" for k in range(1, 11)}\n",
    "# d = defaultdict(float, d1) # convert it to a defaultdict\n",
    "# print(d[5])\n",
    "# print(d[100])"
   ]
  },
  {
   "cell_type": "markdown",
   "metadata": {
    "id": "nAfqcbvDU4ht"
   },
   "source": [
    "This doesn't work:"
   ]
  },
  {
   "cell_type": "code",
   "execution_count": null,
   "metadata": {
    "id": "gCLSLvV7U4ht",
    "scrolled": false
   },
   "outputs": [],
   "source": [
    "# d = defaultdict(10)"
   ]
  },
  {
   "cell_type": "markdown",
   "metadata": {
    "id": "-SjKJ6u5U4hu"
   },
   "source": [
    "Use a `lambda` to make the number `10` `callable`\":"
   ]
  },
  {
   "cell_type": "code",
   "execution_count": null,
   "metadata": {
    "id": "Ka0_wgPdU4hu"
   },
   "outputs": [],
   "source": [
    "# d = defaultdict(lambda: 10)\n",
    "# d[\"new key\"]"
   ]
  },
  {
   "cell_type": "code",
   "execution_count": null,
   "metadata": {
    "id": "vtXhpws2U4hu"
   },
   "outputs": [],
   "source": [
    "# d = defaultdict(lambda: defaultdict(float))\n",
    "# d[\"new key\"]"
   ]
  },
  {
   "cell_type": "markdown",
   "metadata": {
    "id": "0EXmZlkNU4hv"
   },
   "source": [
    "Clever use of a `defaultdict` can be the solution to the problem of data-storing in a smoothing $N$-gram pointed out above:\n",
    "    \n",
    "    ngram = defaultdict(lambda: k/(N+kV), ngram)"
   ]
  },
  {
   "cell_type": "markdown",
   "metadata": {
    "id": "2Z8-IW9wU4hv"
   },
   "source": [
    "The following function is given:"
   ]
  },
  {
   "cell_type": "code",
   "execution_count": null,
   "metadata": {
    "id": "Anhpz3icU4hv"
   },
   "outputs": [],
   "source": [
    "train_file = \"/content/drive/MyDrive/Colab Notebooks/nlp-lab1/ted-train.txt\"\n",
    "\n",
    "def read(fname, max_lines=np.inf):\n",
    "    \"\"\"\n",
    "    Reads in the data in fname and returns it as\n",
    "    one long list of words. Also returns a vocabulary in\n",
    "    the form of a word2index and index2word dictionary.\n",
    "    \"\"\"\n",
    "    data = []\n",
    "    # w2i will automatically keep a counter to asign to new words\n",
    "    w2i = defaultdict(lambda: len(w2i))\n",
    "    i2w = dict()\n",
    "    start = \"<s>\"\n",
    "    end = \"</s>\"\n",
    "    \n",
    "    with open(fname, \"r\", encoding='utf-8') as fh:\n",
    "        for k, line in enumerate(fh):\n",
    "            if k > max_lines:\n",
    "                break\n",
    "            words = line.strip().split()\n",
    "            # assign an index to each word\n",
    "            for w in words:\n",
    "                i2w[w2i[w]] = w # trick\n",
    "            \n",
    "            sent = [start] + words + [end]\n",
    "            data.append(sent)\n",
    "\n",
    "    return data, w2i, i2w\n",
    "data, w2i, i2w = read(train_file)"
   ]
  },
  {
   "cell_type": "code",
   "execution_count": null,
   "metadata": {
    "id": "kJyxpEqsU4jG"
   },
   "outputs": [],
   "source": [
    "def train_ngram(data, N, k=0):\n",
    "    \"\"\"\n",
    "    Trains an n-gram language model with optional add-k smoothing\n",
    "    and additionaly returns the unigram model\n",
    "    \n",
    "    :param data: text-data as returned by read\n",
    "    :param N: (N>1) the order of the ngram e.g. N=2 gives a bigram\n",
    "    :param k: optional add-k smoothing\n",
    "    :returns: ngram and unigram\n",
    "    \"\"\"\n",
    "    words = [word for sentence in data for word in sentence]\n",
    "    words_c = len(words)\n",
    "    unigram = Counter(words)\n",
    "\n",
    "    v=len(unigram)\n",
    "\n",
    "    for key, value in unigram.items():\n",
    "      unigram[key] = (value+k)/(words_c+k*v)\n",
    "    unigram = defaultdict(lambda: k/(words_c+k*v), unigram)\n",
    "\n",
    "\n",
    "    if k==0:\n",
    "      ngram_model = defaultdict(lambda: defaultdict(float)) # ngram[history][word] = #(history,word)\n",
    "    else:\n",
    "      ngram_model = defaultdict(lambda: defaultdict(lambda: 1/v))\n",
    "\n",
    "    ngram = []\n",
    "    history = []\n",
    "    for sentence in data:\n",
    "      if len(sentence)>=N:\n",
    "          gram = [tuple(sentence[i:i+N]) for i in range(len(sentence)-N)]\n",
    "          his = [tuple(sentence[i:i+N-1]) for i in range(len(sentence)-N)]\n",
    "          ngram+=gram\n",
    "          history+=his\n",
    "\n",
    "    ngram = Counter(ngram)\n",
    "    history = Counter(history)\n",
    "\n",
    "    for gram, c in ngram.items():\n",
    "        his = gram[0:N-1]\n",
    "        word = gram[N-1]\n",
    "        his_c = history[his]\n",
    "        ngram_model[his][word] = (c+k)/(his_c+k*v)\n",
    "    \n",
    "    for his, his_c in history.items():\n",
    "      ngram_model[his] = defaultdict(lambda: k/(his_c+k*v), ngram_model[his])\n",
    "\n",
    "    return ngram_model, unigram\n",
    "\n",
    "bigram, unigram = train_ngram(data, N=2, k=0)\n",
    "trigram, unigram = train_ngram(data, N=3, k=0)\n",
    "fourthgram, unigram = train_ngram(data, N=4, k=0)\n",
    "bigram_smoothed, unigram_smoothed = train_ngram(data, N=2, k=0.1)"
   ]
  },
  {
   "cell_type": "code",
   "execution_count": null,
   "metadata": {
    "colab": {
     "base_uri": "https://localhost:8080/"
    },
    "id": "1bFFP5undjB0",
    "outputId": "0d684cac-b237-4961-8dd8-e4d45f6c056c"
   },
   "outputs": [
    {
     "data": {
      "text/plain": [
       "0.0"
      ]
     },
     "execution_count": 18,
     "metadata": {
      "tags": []
     },
     "output_type": "execute_result"
    }
   ],
   "source": [
    "bigram[tuple(['.'])]['</s>']"
   ]
  },
  {
   "cell_type": "code",
   "execution_count": null,
   "metadata": {
    "id": "F2_qzvsuU4jx"
   },
   "outputs": [],
   "source": [
    "bigram[tuple(['<s>'])]['ar']"
   ]
  },
  {
   "cell_type": "code",
   "execution_count": null,
   "metadata": {
    "id": "Ym9dwvpJSDvk"
   },
   "outputs": [],
   "source": [
    "bigram_smoothed[tuple(['<s>'])]['ar']"
   ]
  },
  {
   "cell_type": "code",
   "execution_count": null,
   "metadata": {
    "colab": {
     "base_uri": "https://localhost:8080/"
    },
    "id": "gM8PEPPbb3H4",
    "outputId": "bf9b70bd-c4d9-497a-8ebe-cd167118d41a"
   },
   "outputs": [
    {
     "data": {
      "text/plain": [
       "1.0"
      ]
     },
     "execution_count": 50,
     "metadata": {
      "tags": []
     },
     "output_type": "execute_result"
    }
   ],
   "source": [
    "trigram[tuple(['Valley', 'did'])]['.']"
   ]
  },
  {
   "cell_type": "code",
   "execution_count": null,
   "metadata": {
    "id": "3Pnvin2fdToC"
   },
   "outputs": [],
   "source": [
    "fourthgram[tuple(['<s>', 'I', 'have'])]['an']"
   ]
  },
  {
   "cell_type": "markdown",
   "metadata": {
    "id": "YCWmPOhFhVgK"
   },
   "source": []
  },
  {
   "cell_type": "markdown",
   "metadata": {
    "id": "FozdgN23U4jy"
   },
   "source": [
    "## Exercise 2.2 (5 points)\n",
    "\n",
    "You can use an *N*-gram language model to **generate text**. The higher the order *N* the better your model will be able to catch the long-range dependecies that occur in actual sentences and the better your changes are at generating sensible text. But beware: **sparsity** of language data will quickly cause your model to reproduce entire lines from your training data; in such cases only one $w_k$ was observed for the histories $w_{k-N+1}\\dots w_{k-1}$ in the entire training-set.\n",
    "\n",
    "**Complete** the function `generate_sent`. It takes a language model `lm` and an order `N` and should generate a sentence by **sampling** from the language model.\n",
    "\n",
    "**[Hint]** You can use the method of [inverse transform sampling](https://en.wikipedia.org/wiki/Inverse_transform_sampling) to generate a sample from a **categorical distribution**, $p_1\\dots p_k$ such that $p_i \\geq 0$ and $\\sum_{i=1}^k p_i = 1$, as follows:"
   ]
  },
  {
   "cell_type": "code",
   "execution_count": null,
   "metadata": {
    "colab": {
     "base_uri": "https://localhost:8080/"
    },
    "id": "cRt8hwkGU4jy",
    "outputId": "a86fca81-944a-4865-f08d-9a4ba62572ac"
   },
   "outputs": [
    {
     "name": "stdout",
     "output_type": "stream",
     "text": [
      "2\n",
      "Counter({2: 538, 1: 204, 3: 166, None: 92})\n"
     ]
    }
   ],
   "source": [
    "from random import random\n",
    "\n",
    "P = [0.2,0.5,0.2,0.1]\n",
    "\n",
    "def sample(P):\n",
    "    u = random() # uniformly random number between 0 and 1\n",
    "    p = 0\n",
    "    for i, p_i in enumerate(P):\n",
    "        if p > u: \n",
    "            return i # the first i s.t. p1 + ... + pi > u\n",
    "        p += p_i\n",
    "        \n",
    "print(sample(P))\n",
    "\n",
    "print(Counter([sample(P) for i in range(1000)])) # check to see if the law of large numbers is still true"
   ]
  },
  {
   "cell_type": "markdown",
   "metadata": {
    "id": "b7giA0sqU4j1"
   },
   "source": [
    "Inverse transform sampling in the words of Jurafsky and Martin:\n",
    "\n",
    "> Imagine all the words of the English language covering the probability space\n",
    "between 0 and 1, each word covering an interval proportional to its frequency. We\n",
    "choose a random value between 0 and 1 and print the word whose interval includes\n",
    "this chosen value.\n",
    "\n",
    "(J&M, section 4.3)"
   ]
  },
  {
   "cell_type": "code",
   "execution_count": null,
   "metadata": {
    "id": "cpSyJdtgqNxF"
   },
   "outputs": [],
   "source": [
    "def predict(his, lm):\n",
    "    dic=lm[his]\n",
    "    next_words=[]\n",
    "    next_probs=[]\n",
    "    for key, value in dic.items():\n",
    "        next_words.append(key)\n",
    "        next_probs.append(value)\n",
    "    if len(next_words) == 0:\n",
    "      return '</s>'\n",
    "    idx=sample(next_probs)\n",
    "    if idx==None:\n",
    "        return next_words[-1]\n",
    "    else:\n",
    "        return next_words[idx-1]"
   ]
  },
  {
   "cell_type": "code",
   "execution_count": null,
   "metadata": {
    "colab": {
     "base_uri": "https://localhost:8080/",
     "height": 35
    },
    "id": "7xko5BAfU4j1",
    "outputId": "1ff7da12-51ae-444f-edf1-f1781b76ce50"
   },
   "outputs": [
    {
     "data": {
      "application/vnd.google.colaboratory.intrinsic+json": {
       "type": "string"
      },
      "text/plain": [
       "' <s> Our society to consider for that I am Bill . </s>'"
      ]
     },
     "execution_count": 8,
     "metadata": {
      "tags": []
     },
     "output_type": "execute_result"
    }
   ],
   "source": [
    "def generate_sent(lm, N):\n",
    "  ngram = []\n",
    "  P_ngram = []\n",
    "  for his, words in lm.items():\n",
    "    if his[0] == '<s>':\n",
    "      for word, prob in words.items():\n",
    "        gram = [w for w in his]\n",
    "        gram.append(word)\n",
    "        ngram.append(tuple(gram))\n",
    "        P_ngram.append(prob)\n",
    "  begin = ngram[sample(P_ngram)]\n",
    "  next = ''\n",
    "  sentence = list(begin)\n",
    "  i = 1\n",
    "  while next != '</s>':\n",
    "    his = tuple(sentence[i:i+N-1])\n",
    "    next = predict(his, lm)\n",
    "    sentence.append(next)\n",
    "    i+=1\n",
    "  s = ''\n",
    "  for word in sentence:\n",
    "    s+=' '\n",
    "    s+=word\n",
    "  return s\n",
    "\n",
    "s = generate_sent(bigram, 2)\n",
    "s"
   ]
  },
  {
   "cell_type": "markdown",
   "metadata": {
    "id": "komPrIlIU4j2"
   },
   "source": [
    "### [Extra]\n",
    "\n",
    "For how many of the histories $w_{k-N+1}\\dots w_{k-1}$ is the number of continuations $w_n$ equal to **one**? Calculate the percentage of such cases for the different orders *N*.\n",
    "\n",
    "And which history has the **most possible continuations**?"
   ]
  },
  {
   "cell_type": "code",
   "execution_count": null,
   "metadata": {
    "id": "sW-_s2GRU4j2"
   },
   "outputs": [],
   "source": []
  },
  {
   "cell_type": "raw",
   "metadata": {
    "collapsed": true,
    "id": "2VtM6Zq0U4j2"
   },
   "source": [
    "### ANSWER ###"
   ]
  },
  {
   "cell_type": "markdown",
   "metadata": {
    "id": "1p0fuhQwU4j3"
   },
   "source": [
    "## Excercise 2.3 (5 points)\n",
    "\n",
    "Let $V$ denote our vocabulary. Recall that for any $w$ in $V$ `bigram[w]` defines a conditional probability $p(v|w)$ over $v$ in $V$. In the case of an **unsmoothed bigram**, $p(v|w) = 0$ for most $v\\in V$, whereas in the **smoothed bigram** smoothing took care that $p(v|w) \\geq 0$ for *all* $v$.\n",
    "\n",
    "The function `plot_bigram_dist(word, bigram, smoothbigram, k=30)` plots shows $p(v|word)$ for the `k` words $v$. One bar shows the probabilities in `bigram` and one in `smoothbigram`. \n",
    "\n",
    "**(a)** Use this function to plot the distribution for at least two words `w` and answer the questions\n",
    "* What is the effect of smoothing on the bigram distribution of frequent words? \n",
    "* What is the effect in the case of infrequent words?\n",
    "* Explain the difference between the two based on the raw counts of `w` \n",
    "\n",
    "**(b)** Now experiment with $k$ much smaller than 1 (but greater than 0!) \n",
    "* What are the effects?\n",
    "\n",
    "\n",
    "**[Hint]** Remember that add-1 smoothing turns \n",
    "$$P(w_n\\mid w_{n-1}) = \\frac{C(w_{n-1}w_{n})}{C(w_{n-1})}$$\n",
    "into\n",
    "$$P_{add-1}(w_n\\mid w_{n-1}) = \\frac{C(w_{n-1}w_{n}) + 1}{C(w_{n-1}) + |V|}.$$\n",
    "\n",
    "What happens when $C(w_{n-1})$ is relatively big (similiar in of size as $ |V| $)? And what if $C(w_{n-1})$ is small? "
   ]
  },
  {
   "cell_type": "code",
   "execution_count": null,
   "metadata": {
    "id": "YFKWegtKU4j3"
   },
   "outputs": [],
   "source": [
    "import pandas as pd\n",
    "import seaborn as sns    \n",
    "\n",
    "def plot_bigram_dist(word, bigram, smoothbigram, k=30):\n",
    "    d = bigram[word]\n",
    "    ds = smoothbigram[word]\n",
    "    \n",
    "    # sort the probabilities\n",
    "    d_sort = sorted(d.items(), reverse=True, key=lambda t: t[1])[0:k]\n",
    "    ds_sort = sorted(ds.items(), reverse=True, key=lambda t: t[1])[0:k]\n",
    "    \n",
    "    _, probs = zip(*d_sort)\n",
    "    smooth_ws, smooth_probs = zip(*ds_sort)\n",
    "    \n",
    "    # make up for the fact that in the unsmoothed case  probs is generally less than k long\n",
    "    probs = probs + (0,) * (k-len(probs)) \n",
    "\n",
    "    w_data = pd.DataFrame({\"w\": smooth_ws * 2,\n",
    "                           \"P({}|w)\".format(word): probs + smooth_probs,\n",
    "                           \"smoothing\": [\"unsmoothed\"]*k + [\"smoothed\"]*k})\n",
    "    \n",
    "    fig, ax = plt.subplots(figsize=(10,10))\n",
    "    plt.xticks(rotation=90)\n",
    "    g = sns.barplot(ax=ax, x=\"w\", y=\"P({}|w)\".format(word), hue=\"smoothing\",\n",
    "                    data=w_data, palette=\"Blues_d\")    "
   ]
  },
  {
   "cell_type": "code",
   "execution_count": null,
   "metadata": {
    "colab": {
     "base_uri": "https://localhost:8080/",
     "height": 1000
    },
    "id": "5hQcea83857S",
    "outputId": "e76a822b-23d4-46c3-f4a7-3e19a3555d0a"
   },
   "outputs": [
    {
     "data": {
      "image/png": "[encoded data removed]",
      "text/plain": [
       "<Figure size 720x720 with 1 Axes>"
      ]
     },
     "metadata": {
      "needs_background": "light",
      "tags": []
     },
     "output_type": "display_data"
    },
    {
     "data": {
      "image/png": "[encoded data removed]",
      "text/plain": [
       "<Figure size 720x720 with 1 Axes>"
      ]
     },
     "metadata": {
      "needs_background": "light",
      "tags": []
     },
     "output_type": "display_data"
    },
    {
     "data": {
      "image/png": "[encoded data removed]",
      "text/plain": [
       "<Figure size 720x720 with 1 Axes>"
      ]
     },
     "metadata": {
      "needs_background": "light",
      "tags": []
     },
     "output_type": "display_data"
    },
    {
     "data": {
      "image/png": "[encoded data removed]",
      "text/plain": [
       "<Figure size 720x720 with 1 Axes>"
      ]
     },
     "metadata": {
      "needs_background": "light",
      "tags": []
     },
     "output_type": "display_data"
    }
   ],
   "source": [
    "## YOUR CODE HERE ##\n",
    "bigram_smoothed_1, unigram_smoothed_1 = train_ngram(data, N=2, k=1)\n",
    "\n",
    "plot_bigram_dist(tuple(['I']), bigram, bigram_smoothed_1, k=30)\n",
    "plot_bigram_dist(tuple(['We']), bigram, bigram_smoothed_1, k=30)\n",
    "plot_bigram_dist(tuple(['help']), bigram, bigram_smoothed_1, k=30)\n",
    "plot_bigram_dist(tuple(['like']), bigram, bigram_smoothed_1, k=30)"
   ]
  },
  {
   "cell_type": "code",
   "execution_count": null,
   "metadata": {
    "colab": {
     "base_uri": "https://localhost:8080/",
     "height": 1000
    },
    "id": "sojm5Y-3U4j3",
    "outputId": "72e00440-b068-46e1-d78f-79df24e32199"
   },
   "outputs": [
    {
     "data": {
      "image/png": "[encoded data removed]",
      "text/plain": [
       "<Figure size 720x720 with 1 Axes>"
      ]
     },
     "metadata": {
      "needs_background": "light",
      "tags": []
     },
     "output_type": "display_data"
    },
    {
     "data": {
      "image/png": "[encoded data removed]",
      "text/plain": [
       "<Figure size 720x720 with 1 Axes>"
      ]
     },
     "metadata": {
      "needs_background": "light",
      "tags": []
     },
     "output_type": "display_data"
    },
    {
     "data": {
      "image/png": "[encoded data removed]",
      "text/plain": [
       "<Figure size 720x720 with 1 Axes>"
      ]
     },
     "metadata": {
      "needs_background": "light",
      "tags": []
     },
     "output_type": "display_data"
    },
    {
     "data": {
      "image/png": "[encoded data removed]",
      "text/plain": [
       "<Figure size 720x720 with 1 Axes>"
      ]
     },
     "metadata": {
      "needs_background": "light",
      "tags": []
     },
     "output_type": "display_data"
    }
   ],
   "source": [
    "plot_bigram_dist(tuple(['I']), bigram, bigram_smoothed, k=30)\n",
    "plot_bigram_dist(tuple(['We']), bigram, bigram_smoothed, k=30)\n",
    "plot_bigram_dist(tuple(['help']), bigram, bigram_smoothed, k=30)\n",
    "plot_bigram_dist(tuple(['like']), bigram, bigram_smoothed, k=30)"
   ]
  },
  {
   "cell_type": "markdown",
   "metadata": {
    "id": "9J9jXCcUU4j3"
   },
   "source": [
    "YOUR ANSWERS HERE\n",
    "\n",
    "(a) For words that are frequent (e.g. 'I'), smoothing doesn't change the probability a lot. The smoothed bars are just a little bit lower than unsmoothed bars.\n",
    "\n",
    "For words that are relatively infrequent (e.g. 'help'), smoothing dramatically changes the probability model. The smoothed bars are about 1/6 to 1/5 of the unsmoothed bars.\n",
    "\n",
    "Exlpain: The more frequent the word is, the C(w_n-1) is bigger, so the \" + |V|\" item on the denominator will have less effect on the whole value; and the more infrequent the word is, the C(w_n-1) is smaller, so the \" + |V|\" item will have more effect on the whole value.\n",
    "\n",
    "(b) Effect of k: When k=1, for both frequent and infrequent words, smoothing will have larger effect than when 0<k<<1. In the plot we can see, for word 'I', the smoothed bars are about half of the unsmoothed bars. That is because when 0<k<<1, the item \"+ k|V|\" will much smaller than \"+ |V|\"."
   ]
  },
  {
   "cell_type": "markdown",
   "metadata": {
    "id": "XAFXHJwKU4j3"
   },
   "source": [
    "\n",
    "**Recall** that if we have a sentence $w_1,\\dots,w_n$ we can write\n",
    "\n",
    "$$P(w_1\\dots w_n) = P(w_1)P(w_2|w_1) \\cdots P(w_i|w_1 \\dots w_{n-1}) \\approx P(w_1)P(w_2|w_1)\\cdots P(w_{N-1}|w_1\\dots w_{N-2})\\prod_{i=N}^{n} P(w_i|w_{i-(N-1)}\\dots w_{i-1})$$\n",
    "\n",
    "where in the last step we make an $N$-gram approximation of the full conditionals.\n",
    "\n",
    "For example, in the case of a bigram (N=2), the above expression reduces to\n",
    "\n",
    "$$P(w_1 \\dots w_n)\\approx P(w_1)\\prod_{i=2}^{n} P(w_i| w_{i-1}).$$\n",
    "\n",
    "## Exercise 2.4 (5 points)\n",
    "\n",
    "The following sentences are taken from the **training data**. Use your **unsmoothed unigram**, **bigram**, and **trigram** language model to estimate their **probabilities**:\n",
    "\n",
    "    1. Every day was about creating something new .\n",
    "    2. In this machine , a beam of protons and anti-protons are accelerated to near the speed of light and brought \n",
    "       together in a collision , producing a burst of pure energy .\n",
    "\n",
    "**Repeat** this with the **smoothed (add-1)** versions of the N-grams. What is the effect of smoothing on the probabilities?\n"
   ]
  },
  {
   "cell_type": "code",
   "execution_count": null,
   "metadata": {
    "id": "GBfVRrs8U4j4"
   },
   "outputs": [],
   "source": [
    "## YOUR CODE HERE ##\n",
    "s1 = 'Every day was about creating something new .'\n",
    "s2 = 'In this machine , a beam of protons and anti-protons are accelerated to near the speed of light and brought together in a collision , producing a burst of pure energy .'\n",
    "\n",
    "def get_sent(s):\n",
    "  start = '<s>'\n",
    "  end = '</s>'\n",
    "  words= s.strip().split()\n",
    "  sent = [start] + words + [end]\n",
    "  return sent\n",
    "\n",
    "def get_sent_prob(s, N, ngram):\n",
    "  sent = get_sent(s)\n",
    "  if N==1:\n",
    "    prob = 1\n",
    "    for word in sent:\n",
    "      prob *= ngram[word]\n",
    "    return prob\n",
    "  else:\n",
    "    gram = [tuple(sent[i:i+N]) for i in range(len(sent)-N)]\n",
    "    prob = 0.0\n",
    "    for his, words in ngram.items():\n",
    "      if his == tuple(sent[0:N-1]):\n",
    "        for word, p in words.items():\n",
    "          prob += p\n",
    "        break\n",
    "    for g in gram[1:]:\n",
    "      prob*=ngram[g[0:N-1]][g[N-1]]\n",
    "    return prob"
   ]
  },
  {
   "cell_type": "code",
   "execution_count": null,
   "metadata": {
    "colab": {
     "base_uri": "https://localhost:8080/"
    },
    "id": "zMl5BoMKHEae",
    "outputId": "73492d60-c428-4ac7-be57-405b1803ffb0"
   },
   "outputs": [
    {
     "data": {
      "text/plain": [
       "(8.711492631550748e-27, 2.7545011290780525e-102)"
      ]
     },
     "execution_count": 12,
     "metadata": {
      "tags": []
     },
     "output_type": "execute_result"
    }
   ],
   "source": [
    "get_sent_prob(s1,1,unigram), get_sent_prob(s2,1,unigram)"
   ]
  },
  {
   "cell_type": "code",
   "execution_count": null,
   "metadata": {
    "colab": {
     "base_uri": "https://localhost:8080/"
    },
    "id": "9B1OrgcoIgBb",
    "outputId": "038c44f5-ce06-4323-aa85-9bfb0c3ac91b"
   },
   "outputs": [
    {
     "data": {
      "text/plain": [
       "(7.628943757061614e-27, 4.109546393965371e-102)"
      ]
     },
     "execution_count": 15,
     "metadata": {
      "tags": []
     },
     "output_type": "execute_result"
    }
   ],
   "source": [
    "get_sent_prob(s1,1,unigram_smoothed_1), get_sent_prob(s2,1,unigram_smoothed_1)"
   ]
  },
  {
   "cell_type": "code",
   "execution_count": null,
   "metadata": {
    "colab": {
     "base_uri": "https://localhost:8080/"
    },
    "id": "0ysDg_NWG12i",
    "outputId": "3ade5081-784d-458d-e0dd-edd6b2fb21f0"
   },
   "outputs": [
    {
     "data": {
      "text/plain": [
       "(3.033151810717665e-14, 1.2225752266818072e-70)"
      ]
     },
     "execution_count": 13,
     "metadata": {
      "tags": []
     },
     "output_type": "execute_result"
    }
   ],
   "source": [
    "get_sent_prob(s1,2,bigram), get_sent_prob(s2,2,bigram)"
   ]
  },
  {
   "cell_type": "code",
   "execution_count": null,
   "metadata": {
    "colab": {
     "base_uri": "https://localhost:8080/"
    },
    "id": "2PHJjuUAKQX3",
    "outputId": "5b1a23dd-81db-48a5-e217-430c520fae5a"
   },
   "outputs": [
    {
     "data": {
      "text/plain": [
       "(1.181410209022898e-23, 1.2598101450183324e-114)"
      ]
     },
     "execution_count": 16,
     "metadata": {
      "tags": []
     },
     "output_type": "execute_result"
    }
   ],
   "source": [
    "get_sent_prob(s1,2,bigram_smoothed_1), get_sent_prob(s2,2,bigram_smoothed_1)"
   ]
  },
  {
   "cell_type": "code",
   "execution_count": null,
   "metadata": {
    "colab": {
     "base_uri": "https://localhost:8080/"
    },
    "id": "ZYOHy35vHEFn",
    "outputId": "e9f87f01-01cd-499b-b76f-ec60d4be6d06"
   },
   "outputs": [
    {
     "data": {
      "text/plain": [
       "(8.477868768134693e-08, 4.171894067528797e-28)"
      ]
     },
     "execution_count": 14,
     "metadata": {
      "tags": []
     },
     "output_type": "execute_result"
    }
   ],
   "source": [
    "get_sent_prob(s1,3,trigram), get_sent_prob(s2,3,trigram)"
   ]
  },
  {
   "cell_type": "code",
   "execution_count": null,
   "metadata": {
    "colab": {
     "base_uri": "https://localhost:8080/"
    },
    "id": "dXhtnrrdIfrX",
    "outputId": "bb31e3e6-3a1b-43ed-e92f-2203a5083c9e"
   },
   "outputs": [
    {
     "data": {
      "text/plain": [
       "(1.570741232720349e-28, 9.238114994057196e-131)"
      ]
     },
     "execution_count": 17,
     "metadata": {
      "tags": []
     },
     "output_type": "execute_result"
    }
   ],
   "source": [
    "trigram_smoothed_1, _ = train_ngram(data, N=3, k=1)\n",
    "get_sent_prob(s1,3,trigram_smoothed_1), get_sent_prob(s2,3,trigram_smoothed_1)"
   ]
  },
  {
   "cell_type": "markdown",
   "metadata": {
    "id": "PnCt21unU4j4"
   },
   "source": [
    "YOUR ANSWERS HERE\n",
    "\n",
    "For unigram model, the smoothed probabilities can be a little higher or lower;\n",
    "For bi-gram and tro-gram, the smoothed probability is abviously smaller than the unsmoothed probability. The longer the sentence is and the infrequent the words are, the more dramatic the decrease effect is."
   ]
  },
  {
   "cell_type": "markdown",
   "metadata": {
    "id": "V1ATlCTqU4j4"
   },
   "source": [
    "## Exercise 2.5 (5 points)\n",
    "\n",
    "The above sentences were taken from the training set, hence they will all have probability greater than 0. The big challenge for our language model are of course with sentence that contain unseen N-grams: if such an N-gram occurs our model immediately assigns the sentence probability zero.\n",
    "\n",
    "The following three senteces are taken from the **test set** availlable in the file **ted-test.txt**. What probabilities do your smoothed and unsmoothed language models asign in this case?\n",
    "\n",
    "    1. Because these robots are really safe .\n",
    "    2. We have sheer nothingness on one side , and we have this vision of a reality that encompasses every \n",
    "       conceivable world at the other extreme : the fullest possible reality , nothingness , the simplest possible \n",
    "       reality ."
   ]
  },
  {
   "cell_type": "code",
   "execution_count": null,
   "metadata": {
    "id": "yk6r9YipU4j4"
   },
   "outputs": [],
   "source": [
    "### YOUR CODE HERE ###\n",
    "s1t = 'Because these robots are really safe .'\n",
    "s2t = 'We have sheer nothingness on one side , and we have this vision of a reality that encompasses every conceivable world at the other extreme : the fullest possible reality , nothingness , the simplest possible reality .'"
   ]
  },
  {
   "cell_type": "code",
   "execution_count": null,
   "metadata": {
    "colab": {
     "base_uri": "https://localhost:8080/"
    },
    "id": "lKJI3Fr2LCus",
    "outputId": "c744f03b-d369-4cef-c3ab-a8c188108120"
   },
   "outputs": [
    {
     "data": {
      "text/plain": [
       "(3.5731707008639346e-24, 3.699664748429897e-120)"
      ]
     },
     "execution_count": 21,
     "metadata": {
      "tags": []
     },
     "output_type": "execute_result"
    }
   ],
   "source": [
    "get_sent_prob(s1t,1,unigram), get_sent_prob(s2t,1,unigram)"
   ]
  },
  {
   "cell_type": "code",
   "execution_count": null,
   "metadata": {
    "colab": {
     "base_uri": "https://localhost:8080/"
    },
    "id": "e11F_lbJLihR",
    "outputId": "8f89d124-792e-4cd7-c90b-3c99bb7d73ce"
   },
   "outputs": [
    {
     "data": {
      "text/plain": [
       "(3.1752807875634993e-24, 3.60960523835821e-120)"
      ]
     },
     "execution_count": 22,
     "metadata": {
      "tags": []
     },
     "output_type": "execute_result"
    }
   ],
   "source": [
    "get_sent_prob(s1t,1,unigram_smoothed_1), get_sent_prob(s2t,1,unigram_smoothed_1)"
   ]
  },
  {
   "cell_type": "code",
   "execution_count": null,
   "metadata": {
    "colab": {
     "base_uri": "https://localhost:8080/"
    },
    "id": "Yb4YxDI2LjbE",
    "outputId": "19cb73a5-c89d-4455-da64-51db8e861245"
   },
   "outputs": [
    {
     "data": {
      "text/plain": [
       "(4.828293435567934e-13, 0.0)"
      ]
     },
     "execution_count": 23,
     "metadata": {
      "tags": []
     },
     "output_type": "execute_result"
    }
   ],
   "source": [
    "get_sent_prob(s1t,2,bigram), get_sent_prob(s2t,2,bigram)"
   ]
  },
  {
   "cell_type": "code",
   "execution_count": null,
   "metadata": {
    "colab": {
     "base_uri": "https://localhost:8080/"
    },
    "id": "4vTzmNDmMBub",
    "outputId": "0b382897-350f-4f12-86a8-1755ef4819a9"
   },
   "outputs": [
    {
     "data": {
      "text/plain": [
       "(1.7386702441698887e-21, 4.3414124072457724e-125)"
      ]
     },
     "execution_count": 24,
     "metadata": {
      "tags": []
     },
     "output_type": "execute_result"
    }
   ],
   "source": [
    "get_sent_prob(s1t,2,bigram_smoothed_1), get_sent_prob(s2t,2,bigram_smoothed_1)"
   ]
  },
  {
   "cell_type": "code",
   "execution_count": null,
   "metadata": {
    "colab": {
     "base_uri": "https://localhost:8080/"
    },
    "id": "-cOlRx3EMBFM",
    "outputId": "89a1a88f-4d74-4dd9-f782-8443bec93b13"
   },
   "outputs": [
    {
     "data": {
      "text/plain": [
       "(0.0, 0.0)"
      ]
     },
     "execution_count": 25,
     "metadata": {
      "tags": []
     },
     "output_type": "execute_result"
    }
   ],
   "source": [
    "get_sent_prob(s1t,3,trigram), get_sent_prob(s2t,3,trigram)"
   ]
  },
  {
   "cell_type": "code",
   "execution_count": null,
   "metadata": {
    "colab": {
     "base_uri": "https://localhost:8080/"
    },
    "id": "CD9AgMehL6aV",
    "outputId": "4d55d09e-56c0-4ec0-dee7-8f667921140c"
   },
   "outputs": [
    {
     "data": {
      "text/plain": [
       "(6.043776817214262e-26, 1.6620193477848932e-155)"
      ]
     },
     "execution_count": 26,
     "metadata": {
      "tags": []
     },
     "output_type": "execute_result"
    }
   ],
   "source": [
    "get_sent_prob(s1t,3,trigram_smoothed_1), get_sent_prob(s2t,3,trigram_smoothed_1)"
   ]
  },
  {
   "cell_type": "markdown",
   "metadata": {
    "id": "bmS6K8e8U4j4"
   },
   "source": [
    "YOUR ANSWERS HERE\n",
    "\n",
    "The unsmoothed probability can be 0 (such as bi-gram for sentence 2 and tri-gram for both sentences), while the smoothed probability is always >0.\n",
    "\n",
    "The smoothed probability is abviously smaller than the unsmoothed probability. The longer the sentence is and the infrequent the words are, the more dramatic the decrease effect is."
   ]
  },
  {
   "cell_type": "markdown",
   "metadata": {
    "id": "6s6fx2BdU4j4"
   },
   "source": [
    "### [Extra]\n",
    "\n",
    "**Optional** What percentage of the sentences in the test set get assigned probability 0 under your smoothed and unsmoothed language models? "
   ]
  },
  {
   "cell_type": "code",
   "execution_count": null,
   "metadata": {
    "id": "aq0TWdfoU4j5"
   },
   "outputs": [],
   "source": [
    "### ANSWER HERE ###"
   ]
  },
  {
   "cell_type": "markdown",
   "metadata": {
    "id": "0WX5BnlUU4j5"
   },
   "source": [
    "## Exercise 2.6 (5 points)\n",
    "\n",
    "**Perplexity** is a frequently used **metric** for evaluating probabilistic models such as language models. The perplexity (sometimes called **PP** for short) of a language model on a sentence is the **inverse probability** of the sentence, **normalized** by the number of words:\n",
    "\n",
    "$$PP(w_1 \\dots w_n) = P(w_1\\dots w_n)^{-\\frac{1}{n}}.$$\n",
    "\n",
    "Here we can again approximate $P(w_1 \\dots w_n)$ with N-gram probabilities, as above.\n",
    "Note: $(x_1\\cdots x_n)^{-\\frac{1}{n}}$ is the **geometric mean** of the numbers $x_1,\\dots,x_n$. It is like the (regular) artithmetic mean, but with **products** instead of **sums**. The geometric mean is a more natural choice in the case of *PP* because behind $P(w_1\\dots w_n)$ is a series of $n$ products ([more here](https://en.wikipedia.org/wiki/Geometric_mean)).\n",
    "\n",
    "\n",
    "\n",
    "Compute the perplexity of the training sentences from excercise 2.1. What big difference between the **probabilities** of the sentences and the **perplexities** of the sentences do you notice?"
   ]
  },
  {
   "cell_type": "code",
   "execution_count": null,
   "metadata": {
    "colab": {
     "base_uri": "https://localhost:8080/"
    },
    "id": "kmFkQ3YrU4j5",
    "outputId": "1a7d082f-6274-48d1-c0ba-1c01551c563b"
   },
   "outputs": [
    {
     "data": {
      "text/plain": [
       "(3.033151810717665e-14, 22.480739089848097)"
      ]
     },
     "execution_count": 42,
     "metadata": {
      "tags": []
     },
     "output_type": "execute_result"
    }
   ],
   "source": [
    "### YOUR CODE HERE ###\n",
    "def get_perplexity(s,N,ngram):\n",
    "  sent = get_sent(s)\n",
    "  n = len(sent)\n",
    "  prob = get_sent_prob(s,N,ngram)\n",
    "  return pow(prob,(-1/n))\n",
    "\n",
    "\n",
    "get_sent_prob(s1,2,bigram), get_perplexity(s1,2,bigram)"
   ]
  },
  {
   "cell_type": "code",
   "execution_count": null,
   "metadata": {
    "colab": {
     "base_uri": "https://localhost:8080/"
    },
    "id": "0Hw-kvT7aRjG",
    "outputId": "935d3e21-7a1e-4712-8b03-d169d5fb617a"
   },
   "outputs": [
    {
     "data": {
      "text/plain": [
       "(1.2225752266818072e-70, 113.82996446003379)"
      ]
     },
     "execution_count": 43,
     "metadata": {
      "tags": []
     },
     "output_type": "execute_result"
    }
   ],
   "source": [
    "get_sent_prob(s2,2,bigram), get_perplexity(s2,2,bigram)"
   ]
  },
  {
   "cell_type": "markdown",
   "metadata": {
    "id": "ypp5sp07U4j5"
   },
   "source": [
    "YOUR ANSWER HERE\n",
    "\n",
    "The PP is not related to the length of the sentence.\n",
    "\n",
    "The larger the Probability is, the smaller the PP is."
   ]
  },
  {
   "cell_type": "markdown",
   "metadata": {
    "id": "dRw2VzZ_U4j6"
   },
   "source": [
    "# That's it!\n",
    "\n",
    "Congratulations, you have made it to the end of the tutorial. Here we will recap the gist of this notebook. \n",
    "\n",
    "**Make sure all your cells can be executed and all your answers are there. Then, read on if you're interested!**\n",
    "\n",
    "-----\n",
    "\n",
    "By now you should have a solid feeling for the problem of **sparsity in language data**; there's just never enough data. For the task of language modelling, we saw that sparsity is a serious challenge. \n",
    "\n",
    "It would be great to be able to model $p(w_n|w_1 \\dots w_{n-1})$ for unlimited $n$: the larger $n$ the better our language model should become at capturing the long-range dependencies between words that characterize actual human sentences, and the more probability our model will asign to such sentences as opposed to sentences that are word-soup. But in the N-gram approach, increasing $n$ will quickly kill all generalizing abilities of the model: the model will start to asign probabilities only to sentences it has seen in the training data.\n",
    "\n",
    "So, where to go from here? Here are three directions that we could head in.\n",
    "\n",
    "### Smoothing\n",
    "\n",
    "We have seen one example of smoothing in this lab: add-k smoothing. This is an easy method, both conceptually and implementation-wise. But the results are not great, and the effects it has on the distributions can be extreme.\n",
    "\n",
    "A much more sophisticated method of smoothing is so-called **Kneser-Ney smoothing**. The method is described in detail in section 4.5 of J&M (3rd edition). This is one of the best performing N-gram smoothing methods, and up to a few years ago a popular implementation of it called [KenLM](https://kheafield.com/code/kenlm/) gave state of the art results.\n",
    "\n",
    "### From words to characters\n",
    "\n",
    "In this lab we have considered language modeling as the task of predicting a **word** $w_n$ based on a history of **words** $w_1\\cdots w_n$. What if instead we let our basic units of modelling be **characters**? The task then becomes to model $p(c_k\\mid c_{k-N-1}\\dots c_{k-1})$ where each $c_i$ is now an ASCII character instead of an entire word.\n",
    "\n",
    "Suddenly sparsity of data is no longer a problem! The set of characters to use is tiny (< 100) compared to even a small-sized vocabulary as today. Have a look at this very illustrative notebook written by Yoav Golberg to see such a method in action: [The unreasonable effectiveness of Character-level Language Models](http://nbviewer.jupyter.org/gist/yoavg/d76121dfde2618422139).\n",
    "\n",
    "(So what is the downside?)\n",
    "\n",
    "\n",
    "### Neural language models\n",
    "\n",
    "The above notebook was actually written as a response to this blog post by Andrej Karpathy: [The Unreasonable Effectiveness of Recurrent Neural Networks](http://karpathy.github.io/2015/05/21/rnn-effectiveness/). Go ahead and read it if you haven't already: it is a superb introduction to the topic of Recurrent Neural Networks.\n",
    "\n",
    "Neural language models solve the problem of data sparsity in a different manner. Instead of estimating the probabilities $p(w_k\\mid w_{k-N-1}\\dots w_{k-1})$ by counting occurences in the data, they use a neural network $f_{\\theta}$ parametrized by parameters $\\theta$ to predict this probability. The parameters $\\theta$ are learned through optimization. \n",
    "\n",
    "The simplest approach goes like this: each word in the history $w_{k-N-1}\\dots w_{k-1}$ is embedded separately giving  vectors $e_{k-N-1}\\dots e_{k-1}$ and then concatenated into one long vectors $[e_{k-N-1};\\dots ;e_{k-1}]$. The network then uses this history vector to predict a probability distribution over words $w$ in the vocabulary $V$:\n",
    "\n",
    "$$p(w \\mid w_{k-N-1}\\dots w_{k-1}) = f_{\\theta}([e_{k-N-1};\\dots;e_{k-1}]).$$\n",
    "\n",
    "(In order to produce legitimate probabilities the final layer of such a network will be for example a $softmax$.)\n",
    "\n",
    "This provides a solution to the sparsity problem by having the network let the individual embeddings of the words in the history interact through its non-linear transforamtion. We are letting the network figure out the smoothing itself!\n",
    "\n",
    "RNNs are a clever extension of this idea, where a hidden state vector $h$ is re-used and updated at each step $k$ in order to store the information of the entire history up to step $k-1$. That is, an RNN actually does away with the N-order approximation; it tries to model the full conditional directly! That means that\n",
    "\n",
    "$$p(w \\mid w_1\\dots w_{k-1}) \\approx RNN_{\\theta}([e_{k-1};h_{k-1}])$$\n",
    "\n",
    "where the hidden state $h_{k-1}$ is a compression of the *entire history* $w_1\\dots w_{k-1}$.\n",
    "\n",
    "Another great place to learn about RNNs, their problems, and solutions to those, is on the blog of [Christopher Olah](http://colah.github.io/posts/2015-08-Understanding-LSTMs/). \n",
    "\n",
    "-----------\n",
    "(And now, it's time to read the classic essay by Eugene Wigner that gave both of the posts their title: \n",
    "https://www.maths.ed.ac.uk/~v1ranick/papers/wigner.pdf\n",
    "\n",
    "\n",
    "\n",
    "Acknowledgements: Most of this lab was developed in collaboration with Joost Bastings and Dan Douwe."
   ]
  }
 ],
 "metadata": {
  "anaconda-cloud": {},
  "colab": {
   "collapsed_sections": [
    "RcyihiyTU4hf",
    "2VtM6Zq0U4j2",
    "dRw2VzZ_U4j6"
   ],
   "name": "lab1-nlp.ipynb",
   "provenance": [],
   "toc_visible": true
  },
  "kernelspec": {
   "display_name": "Python 3",
   "language": "python",
   "name": "python3"
  },
  "language_info": {
   "codemirror_mode": {
    "name": "ipython",
    "version": 3
   },
   "file_extension": ".py",
   "mimetype": "text/x-python",
   "name": "python",
   "nbconvert_exporter": "python",
   "pygments_lexer": "ipython3",
   "version": "3.7.2"
  }
 },
 "nbformat": 4,
 "nbformat_minor": 1
}
